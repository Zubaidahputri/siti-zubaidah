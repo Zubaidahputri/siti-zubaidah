{
 "cells": [
  {
   "cell_type": "markdown",
   "id": "korean-fancy",
   "metadata": {},
   "source": [
    "# Image Classification with HOG Feature and Neural Networks"
   ]
  },
  {
   "cell_type": "code",
   "execution_count": 2,
   "id": "cad8f697",
   "metadata": {},
   "outputs": [
    {
     "name": "stdout",
     "output_type": "stream",
     "text": [
      "Collecting mlxtend\n",
      "  Obtaining dependency information for mlxtend from https://files.pythonhosted.org/packages/73/da/d5d77a9a7a135c948dbf8d3b873655b105a152d69e590150c83d23c3d070/mlxtend-0.23.0-py3-none-any.whl.metadata\n",
      "  Downloading mlxtend-0.23.0-py3-none-any.whl.metadata (7.3 kB)\n",
      "Requirement already satisfied: scipy>=1.2.1 in /Users/elektro/anaconda3/lib/python3.11/site-packages (from mlxtend) (1.11.3)\n",
      "Requirement already satisfied: numpy>=1.16.2 in /Users/elektro/anaconda3/lib/python3.11/site-packages (from mlxtend) (1.25.2)\n",
      "Requirement already satisfied: pandas>=0.24.2 in /Users/elektro/anaconda3/lib/python3.11/site-packages (from mlxtend) (2.1.1)\n",
      "Requirement already satisfied: scikit-learn>=1.0.2 in /Users/elektro/anaconda3/lib/python3.11/site-packages (from mlxtend) (1.2.2)\n",
      "Requirement already satisfied: matplotlib>=3.0.0 in /Users/elektro/anaconda3/lib/python3.11/site-packages (from mlxtend) (3.8.0)\n",
      "Requirement already satisfied: joblib>=0.13.2 in /Users/elektro/anaconda3/lib/python3.11/site-packages (from mlxtend) (1.2.0)\n",
      "Requirement already satisfied: contourpy>=1.0.1 in /Users/elektro/anaconda3/lib/python3.11/site-packages (from matplotlib>=3.0.0->mlxtend) (1.2.0)\n",
      "Requirement already satisfied: cycler>=0.10 in /Users/elektro/anaconda3/lib/python3.11/site-packages (from matplotlib>=3.0.0->mlxtend) (0.11.0)\n",
      "Requirement already satisfied: fonttools>=4.22.0 in /Users/elektro/anaconda3/lib/python3.11/site-packages (from matplotlib>=3.0.0->mlxtend) (4.25.0)\n",
      "Requirement already satisfied: kiwisolver>=1.0.1 in /Users/elektro/anaconda3/lib/python3.11/site-packages (from matplotlib>=3.0.0->mlxtend) (1.4.4)\n",
      "Requirement already satisfied: packaging>=20.0 in /Users/elektro/anaconda3/lib/python3.11/site-packages (from matplotlib>=3.0.0->mlxtend) (23.1)\n",
      "Requirement already satisfied: pillow>=6.2.0 in /Users/elektro/anaconda3/lib/python3.11/site-packages (from matplotlib>=3.0.0->mlxtend) (10.1.0)\n",
      "Requirement already satisfied: pyparsing>=2.3.1 in /Users/elektro/anaconda3/lib/python3.11/site-packages (from matplotlib>=3.0.0->mlxtend) (3.0.9)\n",
      "Requirement already satisfied: python-dateutil>=2.7 in /Users/elektro/anaconda3/lib/python3.11/site-packages (from matplotlib>=3.0.0->mlxtend) (2.8.2)\n",
      "Requirement already satisfied: pytz>=2020.1 in /Users/elektro/anaconda3/lib/python3.11/site-packages (from pandas>=0.24.2->mlxtend) (2023.3.post1)\n",
      "Requirement already satisfied: tzdata>=2022.1 in /Users/elektro/anaconda3/lib/python3.11/site-packages (from pandas>=0.24.2->mlxtend) (2023.3)\n",
      "Requirement already satisfied: threadpoolctl>=2.0.0 in /Users/elektro/anaconda3/lib/python3.11/site-packages (from scikit-learn>=1.0.2->mlxtend) (2.2.0)\n",
      "Requirement already satisfied: six>=1.5 in /Users/elektro/anaconda3/lib/python3.11/site-packages (from python-dateutil>=2.7->matplotlib>=3.0.0->mlxtend) (1.16.0)\n",
      "Downloading mlxtend-0.23.0-py3-none-any.whl (1.4 MB)\n",
      "\u001b[2K   \u001b[90m━━━━━━━━━━━━━━━━━━━━━━━━━━━━━━━━━━━━━━━━\u001b[0m \u001b[32m1.4/1.4 MB\u001b[0m \u001b[31m995.1 kB/s\u001b[0m eta \u001b[36m0:00:00\u001b[0m:01\u001b[0m00:01\u001b[0m0m\n",
      "\u001b[?25hInstalling collected packages: mlxtend\n",
      "Successfully installed mlxtend-0.23.0\n"
     ]
    }
   ],
   "source": [
    "!pip install mlxtend"
   ]
  },
  {
   "cell_type": "code",
   "execution_count": 3,
   "id": "welcome-thesaurus",
   "metadata": {},
   "outputs": [],
   "source": [
    "import matplotlib.pyplot as plt\n",
    "from skimage.feature import hog\n",
    "from sklearn import datasets\n",
    "from mlxtend.data import loadlocal_mnist\n",
    "from sklearn.neural_network import MLPClassifier"
   ]
  },
  {
   "cell_type": "markdown",
   "id": "laden-franklin",
   "metadata": {},
   "source": [
    "## 1. Dataset Preparation"
   ]
  },
  {
   "attachments": {
    "mnist.png": {
     "image/png": "[encoded data removed]"
    }
   },
   "cell_type": "markdown",
   "id": "recreational-mercy",
   "metadata": {},
   "source": [
    "![mnist.png](attachment:mnist.png)"
   ]
  },
  {
   "cell_type": "markdown",
   "id": "spread-alexandria",
   "metadata": {},
   "source": [
    "**Download MNIST dataset**"
   ]
  },
  {
   "cell_type": "code",
   "execution_count": null,
   "id": "welcome-nickname",
   "metadata": {},
   "outputs": [],
   "source": [
    "!wget http://yann.lecun.com/exdb/mnist/train-images-idx3-ubyte.gz -P ../images/mnist-dataset"
   ]
  },
  {
   "cell_type": "code",
   "execution_count": null,
   "id": "humanitarian-maria",
   "metadata": {},
   "outputs": [],
   "source": [
    "!wget http://yann.lecun.com/exdb/mnist/train-labels-idx1-ubyte.gz -P ../images/mnist-dataset"
   ]
  },
  {
   "cell_type": "code",
   "execution_count": null,
   "id": "registered-spotlight",
   "metadata": {},
   "outputs": [],
   "source": [
    "!wget http://yann.lecun.com/exdb/mnist/t10k-images-idx3-ubyte.gz -P ../images/mnist-dataset"
   ]
  },
  {
   "cell_type": "code",
   "execution_count": null,
   "id": "polish-conversation",
   "metadata": {},
   "outputs": [],
   "source": [
    "!wget http://yann.lecun.com/exdb/mnist/t10k-labels-idx1-ubyte.gz -P ../images/mnist-dataset"
   ]
  },
  {
   "cell_type": "markdown",
   "id": "structured-doctrine",
   "metadata": {},
   "source": [
    "**Extract gzip file**"
   ]
  },
  {
   "cell_type": "code",
   "execution_count": null,
   "id": "social-peeing",
   "metadata": {},
   "outputs": [],
   "source": [
    "!gzip -d ../images/mnist-dataset/train-images-idx3-ubyte.gz "
   ]
  },
  {
   "cell_type": "code",
   "execution_count": null,
   "id": "asian-breakfast",
   "metadata": {},
   "outputs": [],
   "source": [
    "!gzip -d ../images/mnist-dataset/train-labels-idx1-ubyte.gz"
   ]
  },
  {
   "cell_type": "code",
   "execution_count": null,
   "id": "municipal-village",
   "metadata": {},
   "outputs": [],
   "source": [
    "!gzip -d ../images/mnist-dataset/t10k-images-idx3-ubyte.gz"
   ]
  },
  {
   "cell_type": "code",
   "execution_count": null,
   "id": "faced-greensboro",
   "metadata": {},
   "outputs": [],
   "source": [
    "!gzip -d ../images/mnist-dataset/t10k-labels-idx1-ubyte.gz"
   ]
  },
  {
   "cell_type": "code",
   "execution_count": 2,
   "id": "indonesian-valuation",
   "metadata": {},
   "outputs": [
    {
     "name": "stdout",
     "output_type": "stream",
     "text": [
      "t10k-images-idx3-ubyte\ttrain-images-idx3-ubyte\r\n",
      "t10k-labels-idx1-ubyte\ttrain-labels-idx1-ubyte\r\n"
     ]
    }
   ],
   "source": [
    "!ls ../images/mnist-dataset/"
   ]
  },
  {
   "cell_type": "markdown",
   "id": "involved-botswana",
   "metadata": {},
   "source": [
    "**Load image dataset**"
   ]
  },
  {
   "cell_type": "code",
   "execution_count": 13,
   "id": "d53a2184",
   "metadata": {},
   "outputs": [],
   "source": [
    "images_path = '/Users/elektro/Documents/MACHINE VISION /train-images.idx3-ubyte'\n",
    "labels_path = '/Users/elektro/Documents/MACHINE VISION /train-labels.idx1-ubyte'\n",
    "train_images, train_labels = loadlocal_mnist(images_path=images_path, labels_path=labels_path)"
   ]
  },
  {
   "cell_type": "code",
   "execution_count": 15,
   "id": "fixed-norwegian",
   "metadata": {},
   "outputs": [],
   "source": [
    "images_path = '/Users/elektro/Documents/MACHINE VISION /t10k-images.idx3-ubyte'\n",
    "labels_path = '/Users/elektro/Documents/MACHINE VISION /t10k-labels.idx1-ubyte'\n",
    "test_images, test_labels = loadlocal_mnist(images_path=images_path, labels_path=labels_path)"
   ]
  },
  {
   "cell_type": "code",
   "execution_count": 16,
   "id": "chief-exhibition",
   "metadata": {},
   "outputs": [
    {
     "data": {
      "text/plain": [
       "<matplotlib.image.AxesImage at 0x16f8439d0>"
      ]
     },
     "execution_count": 16,
     "metadata": {},
     "output_type": "execute_result"
    },
    {
     "data": {
      "image/png": "[encoded data removed]",
      "text/plain": [
       "<Figure size 640x480 with 1 Axes>"
      ]
     },
     "metadata": {},
     "output_type": "display_data"
    }
   ],
   "source": [
    "plt.imshow(train_images[1].reshape(28,28), cmap='gray')"
   ]
  },
  {
   "cell_type": "code",
   "execution_count": 17,
   "id": "international-router",
   "metadata": {},
   "outputs": [
    {
     "data": {
      "text/plain": [
       "0"
      ]
     },
     "execution_count": 17,
     "metadata": {},
     "output_type": "execute_result"
    }
   ],
   "source": [
    "train_labels[1]"
   ]
  },
  {
   "cell_type": "markdown",
   "id": "attempted-concord",
   "metadata": {},
   "source": [
    "**Test extract HOG feature from image**"
   ]
  },
  {
   "cell_type": "code",
   "execution_count": 18,
   "id": "geographic-writer",
   "metadata": {},
   "outputs": [],
   "source": [
    "feature, hog_img = hog(train_images[1].reshape(28,28), orientations=9, pixels_per_cell=(8, 8), cells_per_block=(2,2), visualize=True, block_norm='L2')"
   ]
  },
  {
   "cell_type": "code",
   "execution_count": 19,
   "id": "registered-sense",
   "metadata": {},
   "outputs": [
    {
     "data": {
      "text/plain": [
       "(144,)"
      ]
     },
     "execution_count": 19,
     "metadata": {},
     "output_type": "execute_result"
    }
   ],
   "source": [
    "feature.shape"
   ]
  },
  {
   "cell_type": "code",
   "execution_count": 20,
   "id": "official-morgan",
   "metadata": {},
   "outputs": [
    {
     "data": {
      "text/plain": [
       "<BarContainer object of 144 artists>"
      ]
     },
     "execution_count": 20,
     "metadata": {},
     "output_type": "execute_result"
    },
    {
     "data": {
      "image/png": "[encoded data removed]",
      "text/plain": [
       "<Figure size 640x480 with 1 Axes>"
      ]
     },
     "metadata": {},
     "output_type": "display_data"
    }
   ],
   "source": [
    "plt.bar(list(range(feature.shape[0])), feature)"
   ]
  },
  {
   "cell_type": "code",
   "execution_count": 21,
   "id": "accessory-hopkins",
   "metadata": {},
   "outputs": [],
   "source": [
    "feature, hog_img = hog(train_images[0].reshape(28,28), orientations=9, pixels_per_cell=(8, 8), cells_per_block=(2,2), visualize=True, block_norm='L2')"
   ]
  },
  {
   "cell_type": "code",
   "execution_count": 22,
   "id": "acceptable-hampton",
   "metadata": {},
   "outputs": [
    {
     "data": {
      "text/plain": [
       "<BarContainer object of 144 artists>"
      ]
     },
     "execution_count": 22,
     "metadata": {},
     "output_type": "execute_result"
    },
    {
     "data": {
      "image/png": "[encoded data removed]",
      "text/plain": [
       "<Figure size 640x480 with 1 Axes>"
      ]
     },
     "metadata": {},
     "output_type": "display_data"
    }
   ],
   "source": [
    "plt.bar(list(range(feature.shape[0])), feature)"
   ]
  },
  {
   "cell_type": "markdown",
   "id": "statistical-medicaid",
   "metadata": {},
   "source": [
    "## 2. Preprocessing using HOG Feature Extraction"
   ]
  },
  {
   "cell_type": "code",
   "execution_count": 23,
   "id": "magnetic-external",
   "metadata": {},
   "outputs": [],
   "source": [
    "n_dims = feature.shape[0]"
   ]
  },
  {
   "cell_type": "code",
   "execution_count": 24,
   "id": "twenty-allah",
   "metadata": {},
   "outputs": [
    {
     "data": {
      "text/plain": [
       "144"
      ]
     },
     "execution_count": 24,
     "metadata": {},
     "output_type": "execute_result"
    }
   ],
   "source": [
    "n_dims"
   ]
  },
  {
   "cell_type": "code",
   "execution_count": 25,
   "id": "statutory-photography",
   "metadata": {},
   "outputs": [],
   "source": [
    "n_samples = train_images.shape[0]"
   ]
  },
  {
   "cell_type": "code",
   "execution_count": 26,
   "id": "classical-insulin",
   "metadata": {},
   "outputs": [
    {
     "data": {
      "text/plain": [
       "60000"
      ]
     },
     "execution_count": 26,
     "metadata": {},
     "output_type": "execute_result"
    }
   ],
   "source": [
    "n_samples"
   ]
  },
  {
   "cell_type": "markdown",
   "id": "younger-lighting",
   "metadata": {},
   "source": [
    "**Create variable for dataset**"
   ]
  },
  {
   "cell_type": "code",
   "execution_count": 27,
   "id": "sudden-hearing",
   "metadata": {},
   "outputs": [],
   "source": [
    "X_train, y_train = datasets.make_classification(n_samples=n_samples, n_features=n_dims)"
   ]
  },
  {
   "cell_type": "code",
   "execution_count": 28,
   "id": "following-millennium",
   "metadata": {},
   "outputs": [
    {
     "data": {
      "text/plain": [
       "(60000, 144)"
      ]
     },
     "execution_count": 28,
     "metadata": {},
     "output_type": "execute_result"
    }
   ],
   "source": [
    "X_train.shape"
   ]
  },
  {
   "cell_type": "markdown",
   "id": "aggressive-details",
   "metadata": {},
   "source": [
    "**Get HOG feature from each image & put into dataset variable**"
   ]
  },
  {
   "cell_type": "code",
   "execution_count": 29,
   "id": "handy-spanking",
   "metadata": {},
   "outputs": [],
   "source": [
    "for i in range(n_samples):\n",
    "    X_train[i], _ = hog(train_images[i].reshape(28,28), orientations=9, pixels_per_cell=(8, 8), cells_per_block=(2,2), visualize=True, block_norm='L2')\n",
    "    y_train[i] = train_labels[i]"
   ]
  },
  {
   "cell_type": "markdown",
   "id": "interstate-oxide",
   "metadata": {},
   "source": [
    "**Convert categorical label to one hot label**"
   ]
  },
  {
   "cell_type": "code",
   "execution_count": 31,
   "id": "outdoor-worthy",
   "metadata": {},
   "outputs": [],
   "source": [
    "from sklearn.preprocessing import LabelBinarizer"
   ]
  },
  {
   "cell_type": "code",
   "execution_count": 33,
   "id": "australian-simpson",
   "metadata": {},
   "outputs": [],
   "source": [
    "lb = LabelBinarizer()"
   ]
  },
  {
   "cell_type": "code",
   "execution_count": 34,
   "id": "atlantic-religious",
   "metadata": {},
   "outputs": [
    {
     "data": {
      "text/html": [
       "<style>#sk-container-id-1 {color: black;background-color: white;}#sk-container-id-1 pre{padding: 0;}#sk-container-id-1 div.sk-toggleable {background-color: white;}#sk-container-id-1 label.sk-toggleable__label {cursor: pointer;display: block;width: 100%;margin-bottom: 0;padding: 0.3em;box-sizing: border-box;text-align: center;}#sk-container-id-1 label.sk-toggleable__label-arrow:before {content: \"▸\";float: left;margin-right: 0.25em;color: #696969;}#sk-container-id-1 label.sk-toggleable__label-arrow:hover:before {color: black;}#sk-container-id-1 div.sk-estimator:hover label.sk-toggleable__label-arrow:before {color: black;}#sk-container-id-1 div.sk-toggleable__content {max-height: 0;max-width: 0;overflow: hidden;text-align: left;background-color: #f0f8ff;}#sk-container-id-1 div.sk-toggleable__content pre {margin: 0.2em;color: black;border-radius: 0.25em;background-color: #f0f8ff;}#sk-container-id-1 input.sk-toggleable__control:checked~div.sk-toggleable__content {max-height: 200px;max-width: 100%;overflow: auto;}#sk-container-id-1 input.sk-toggleable__control:checked~label.sk-toggleable__label-arrow:before {content: \"▾\";}#sk-container-id-1 div.sk-estimator input.sk-toggleable__control:checked~label.sk-toggleable__label {background-color: #d4ebff;}#sk-container-id-1 div.sk-label input.sk-toggleable__control:checked~label.sk-toggleable__label {background-color: #d4ebff;}#sk-container-id-1 input.sk-hidden--visually {border: 0;clip: rect(1px 1px 1px 1px);clip: rect(1px, 1px, 1px, 1px);height: 1px;margin: -1px;overflow: hidden;padding: 0;position: absolute;width: 1px;}#sk-container-id-1 div.sk-estimator {font-family: monospace;background-color: #f0f8ff;border: 1px dotted black;border-radius: 0.25em;box-sizing: border-box;margin-bottom: 0.5em;}#sk-container-id-1 div.sk-estimator:hover {background-color: #d4ebff;}#sk-container-id-1 div.sk-parallel-item::after {content: \"\";width: 100%;border-bottom: 1px solid gray;flex-grow: 1;}#sk-container-id-1 div.sk-label:hover label.sk-toggleable__label {background-color: #d4ebff;}#sk-container-id-1 div.sk-serial::before {content: \"\";position: absolute;border-left: 1px solid gray;box-sizing: border-box;top: 0;bottom: 0;left: 50%;z-index: 0;}#sk-container-id-1 div.sk-serial {display: flex;flex-direction: column;align-items: center;background-color: white;padding-right: 0.2em;padding-left: 0.2em;position: relative;}#sk-container-id-1 div.sk-item {position: relative;z-index: 1;}#sk-container-id-1 div.sk-parallel {display: flex;align-items: stretch;justify-content: center;background-color: white;position: relative;}#sk-container-id-1 div.sk-item::before, #sk-container-id-1 div.sk-parallel-item::before {content: \"\";position: absolute;border-left: 1px solid gray;box-sizing: border-box;top: 0;bottom: 0;left: 50%;z-index: -1;}#sk-container-id-1 div.sk-parallel-item {display: flex;flex-direction: column;z-index: 1;position: relative;background-color: white;}#sk-container-id-1 div.sk-parallel-item:first-child::after {align-self: flex-end;width: 50%;}#sk-container-id-1 div.sk-parallel-item:last-child::after {align-self: flex-start;width: 50%;}#sk-container-id-1 div.sk-parallel-item:only-child::after {width: 0;}#sk-container-id-1 div.sk-dashed-wrapped {border: 1px dashed gray;margin: 0 0.4em 0.5em 0.4em;box-sizing: border-box;padding-bottom: 0.4em;background-color: white;}#sk-container-id-1 div.sk-label label {font-family: monospace;font-weight: bold;display: inline-block;line-height: 1.2em;}#sk-container-id-1 div.sk-label-container {text-align: center;}#sk-container-id-1 div.sk-container {/* jupyter's `normalize.less` sets `[hidden] { display: none; }` but bootstrap.min.css set `[hidden] { display: none !important; }` so we also need the `!important` here to be able to override the default hidden behavior on the sphinx rendered scikit-learn.org. See: https://github.com/scikit-learn/scikit-learn/issues/21755 */display: inline-block !important;position: relative;}#sk-container-id-1 div.sk-text-repr-fallback {display: none;}</style><div id=\"sk-container-id-1\" class=\"sk-top-container\"><div class=\"sk-text-repr-fallback\"><pre>LabelBinarizer()</pre><b>In a Jupyter environment, please rerun this cell to show the HTML representation or trust the notebook. <br />On GitHub, the HTML representation is unable to render, please try loading this page with nbviewer.org.</b></div><div class=\"sk-container\" hidden><div class=\"sk-item\"><div class=\"sk-estimator sk-toggleable\"><input class=\"sk-toggleable__control sk-hidden--visually\" id=\"sk-estimator-id-1\" type=\"checkbox\" checked><label for=\"sk-estimator-id-1\" class=\"sk-toggleable__label sk-toggleable__label-arrow\">LabelBinarizer</label><div class=\"sk-toggleable__content\"><pre>LabelBinarizer()</pre></div></div></div></div></div>"
      ],
      "text/plain": [
       "LabelBinarizer()"
      ]
     },
     "execution_count": 34,
     "metadata": {},
     "output_type": "execute_result"
    }
   ],
   "source": [
    "lb.fit(y_train)"
   ]
  },
  {
   "cell_type": "code",
   "execution_count": 35,
   "id": "contained-poetry",
   "metadata": {},
   "outputs": [],
   "source": [
    "y_train_one_hot = lb.transform(y_train)"
   ]
  },
  {
   "cell_type": "code",
   "execution_count": 36,
   "id": "basic-editing",
   "metadata": {},
   "outputs": [
    {
     "data": {
      "text/plain": [
       "array([0, 0, 0, 0, 0, 1, 0, 0, 0, 0])"
      ]
     },
     "execution_count": 36,
     "metadata": {},
     "output_type": "execute_result"
    }
   ],
   "source": [
    "y_train_one_hot[0]"
   ]
  },
  {
   "cell_type": "code",
   "execution_count": 37,
   "id": "comparative-breach",
   "metadata": {},
   "outputs": [
    {
     "data": {
      "text/plain": [
       "5"
      ]
     },
     "execution_count": 37,
     "metadata": {},
     "output_type": "execute_result"
    }
   ],
   "source": [
    "y_train[0]"
   ]
  },
  {
   "cell_type": "code",
   "execution_count": 38,
   "id": "responsible-rider",
   "metadata": {},
   "outputs": [],
   "source": [
    "import numpy as np"
   ]
  },
  {
   "cell_type": "code",
   "execution_count": 39,
   "id": "sophisticated-retro",
   "metadata": {},
   "outputs": [],
   "source": [
    "label = lb.inverse_transform(np.array([y_train_one_hot[0]]))"
   ]
  },
  {
   "cell_type": "code",
   "execution_count": 40,
   "id": "toxic-lafayette",
   "metadata": {},
   "outputs": [
    {
     "data": {
      "text/plain": [
       "5"
      ]
     },
     "execution_count": 40,
     "metadata": {},
     "output_type": "execute_result"
    }
   ],
   "source": [
    "label[0]"
   ]
  },
  {
   "cell_type": "markdown",
   "id": "present-exhibit",
   "metadata": {},
   "source": [
    "## 3. Classification with Neural Networks"
   ]
  },
  {
   "attachments": {
    "network.svg": {
     "image/svg+xml": [
      "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"
     ]
    }
   },
   "cell_type": "markdown",
   "id": "banner-prefix",
   "metadata": {},
   "source": [
    "![network.svg](attachment:network.svg)"
   ]
  },
  {
   "cell_type": "code",
   "execution_count": 41,
   "id": "declared-schema",
   "metadata": {},
   "outputs": [],
   "source": [
    "clf = MLPClassifier(hidden_layer_sizes=(128, 64, 10), solver='sgd', learning_rate_init=0.001, max_iter=100)"
   ]
  },
  {
   "cell_type": "code",
   "execution_count": 42,
   "id": "choice-defeat",
   "metadata": {},
   "outputs": [
    {
     "name": "stderr",
     "output_type": "stream",
     "text": [
      "/Users/elektro/anaconda3/lib/python3.11/site-packages/sklearn/neural_network/_multilayer_perceptron.py:686: ConvergenceWarning: Stochastic Optimizer: Maximum iterations (100) reached and the optimization hasn't converged yet.\n",
      "  warnings.warn(\n"
     ]
    },
    {
     "data": {
      "text/html": [
       "<style>#sk-container-id-2 {color: black;background-color: white;}#sk-container-id-2 pre{padding: 0;}#sk-container-id-2 div.sk-toggleable {background-color: white;}#sk-container-id-2 label.sk-toggleable__label {cursor: pointer;display: block;width: 100%;margin-bottom: 0;padding: 0.3em;box-sizing: border-box;text-align: center;}#sk-container-id-2 label.sk-toggleable__label-arrow:before {content: \"▸\";float: left;margin-right: 0.25em;color: #696969;}#sk-container-id-2 label.sk-toggleable__label-arrow:hover:before {color: black;}#sk-container-id-2 div.sk-estimator:hover label.sk-toggleable__label-arrow:before {color: black;}#sk-container-id-2 div.sk-toggleable__content {max-height: 0;max-width: 0;overflow: hidden;text-align: left;background-color: #f0f8ff;}#sk-container-id-2 div.sk-toggleable__content pre {margin: 0.2em;color: black;border-radius: 0.25em;background-color: #f0f8ff;}#sk-container-id-2 input.sk-toggleable__control:checked~div.sk-toggleable__content {max-height: 200px;max-width: 100%;overflow: auto;}#sk-container-id-2 input.sk-toggleable__control:checked~label.sk-toggleable__label-arrow:before {content: \"▾\";}#sk-container-id-2 div.sk-estimator input.sk-toggleable__control:checked~label.sk-toggleable__label {background-color: #d4ebff;}#sk-container-id-2 div.sk-label input.sk-toggleable__control:checked~label.sk-toggleable__label {background-color: #d4ebff;}#sk-container-id-2 input.sk-hidden--visually {border: 0;clip: rect(1px 1px 1px 1px);clip: rect(1px, 1px, 1px, 1px);height: 1px;margin: -1px;overflow: hidden;padding: 0;position: absolute;width: 1px;}#sk-container-id-2 div.sk-estimator {font-family: monospace;background-color: #f0f8ff;border: 1px dotted black;border-radius: 0.25em;box-sizing: border-box;margin-bottom: 0.5em;}#sk-container-id-2 div.sk-estimator:hover {background-color: #d4ebff;}#sk-container-id-2 div.sk-parallel-item::after {content: \"\";width: 100%;border-bottom: 1px solid gray;flex-grow: 1;}#sk-container-id-2 div.sk-label:hover label.sk-toggleable__label {background-color: #d4ebff;}#sk-container-id-2 div.sk-serial::before {content: \"\";position: absolute;border-left: 1px solid gray;box-sizing: border-box;top: 0;bottom: 0;left: 50%;z-index: 0;}#sk-container-id-2 div.sk-serial {display: flex;flex-direction: column;align-items: center;background-color: white;padding-right: 0.2em;padding-left: 0.2em;position: relative;}#sk-container-id-2 div.sk-item {position: relative;z-index: 1;}#sk-container-id-2 div.sk-parallel {display: flex;align-items: stretch;justify-content: center;background-color: white;position: relative;}#sk-container-id-2 div.sk-item::before, #sk-container-id-2 div.sk-parallel-item::before {content: \"\";position: absolute;border-left: 1px solid gray;box-sizing: border-box;top: 0;bottom: 0;left: 50%;z-index: -1;}#sk-container-id-2 div.sk-parallel-item {display: flex;flex-direction: column;z-index: 1;position: relative;background-color: white;}#sk-container-id-2 div.sk-parallel-item:first-child::after {align-self: flex-end;width: 50%;}#sk-container-id-2 div.sk-parallel-item:last-child::after {align-self: flex-start;width: 50%;}#sk-container-id-2 div.sk-parallel-item:only-child::after {width: 0;}#sk-container-id-2 div.sk-dashed-wrapped {border: 1px dashed gray;margin: 0 0.4em 0.5em 0.4em;box-sizing: border-box;padding-bottom: 0.4em;background-color: white;}#sk-container-id-2 div.sk-label label {font-family: monospace;font-weight: bold;display: inline-block;line-height: 1.2em;}#sk-container-id-2 div.sk-label-container {text-align: center;}#sk-container-id-2 div.sk-container {/* jupyter's `normalize.less` sets `[hidden] { display: none; }` but bootstrap.min.css set `[hidden] { display: none !important; }` so we also need the `!important` here to be able to override the default hidden behavior on the sphinx rendered scikit-learn.org. See: https://github.com/scikit-learn/scikit-learn/issues/21755 */display: inline-block !important;position: relative;}#sk-container-id-2 div.sk-text-repr-fallback {display: none;}</style><div id=\"sk-container-id-2\" class=\"sk-top-container\"><div class=\"sk-text-repr-fallback\"><pre>MLPClassifier(hidden_layer_sizes=(128, 64, 10), max_iter=100, solver=&#x27;sgd&#x27;)</pre><b>In a Jupyter environment, please rerun this cell to show the HTML representation or trust the notebook. <br />On GitHub, the HTML representation is unable to render, please try loading this page with nbviewer.org.</b></div><div class=\"sk-container\" hidden><div class=\"sk-item\"><div class=\"sk-estimator sk-toggleable\"><input class=\"sk-toggleable__control sk-hidden--visually\" id=\"sk-estimator-id-2\" type=\"checkbox\" checked><label for=\"sk-estimator-id-2\" class=\"sk-toggleable__label sk-toggleable__label-arrow\">MLPClassifier</label><div class=\"sk-toggleable__content\"><pre>MLPClassifier(hidden_layer_sizes=(128, 64, 10), max_iter=100, solver=&#x27;sgd&#x27;)</pre></div></div></div></div></div>"
      ],
      "text/plain": [
       "MLPClassifier(hidden_layer_sizes=(128, 64, 10), max_iter=100, solver='sgd')"
      ]
     },
     "execution_count": 42,
     "metadata": {},
     "output_type": "execute_result"
    }
   ],
   "source": [
    "clf.fit(X_train, y_train_one_hot)"
   ]
  },
  {
   "cell_type": "markdown",
   "id": "described-intersection",
   "metadata": {},
   "source": [
    "## 4. Predict Test Dataset "
   ]
  },
  {
   "cell_type": "code",
   "execution_count": 43,
   "id": "remarkable-sample",
   "metadata": {},
   "outputs": [],
   "source": [
    "n_samples = test_images.shape[0]"
   ]
  },
  {
   "cell_type": "code",
   "execution_count": 44,
   "id": "concrete-forth",
   "metadata": {},
   "outputs": [],
   "source": [
    "X_test, y_test = datasets.make_classification(n_samples=n_samples, n_features=n_dims)"
   ]
  },
  {
   "cell_type": "code",
   "execution_count": 45,
   "id": "naked-credits",
   "metadata": {},
   "outputs": [],
   "source": [
    "for i in range(n_samples):\n",
    "    X_test[i], _ = hog(test_images[i].reshape(28,28), orientations=9, pixels_per_cell=(8, 8), cells_per_block=(2,2), visualize=True, block_norm='L2')\n",
    "    y_test[i] = test_labels[i]"
   ]
  },
  {
   "cell_type": "code",
   "execution_count": 46,
   "id": "skilled-tutorial",
   "metadata": {},
   "outputs": [],
   "source": [
    "y_test_one_hot = lb.transform(y_test)"
   ]
  },
  {
   "cell_type": "code",
   "execution_count": 47,
   "id": "suited-appointment",
   "metadata": {},
   "outputs": [],
   "source": [
    "y_pred_one_hot = clf.predict(X_test)"
   ]
  },
  {
   "cell_type": "code",
   "execution_count": 48,
   "id": "hollywood-biology",
   "metadata": {},
   "outputs": [],
   "source": [
    "y_pred = lb.inverse_transform(y_pred_one_hot)"
   ]
  },
  {
   "cell_type": "code",
   "execution_count": 49,
   "id": "chronic-joint",
   "metadata": {},
   "outputs": [
    {
     "data": {
      "text/plain": [
       "array([7, 2, 1, ..., 4, 5, 6])"
      ]
     },
     "execution_count": 49,
     "metadata": {},
     "output_type": "execute_result"
    }
   ],
   "source": [
    "y_pred"
   ]
  },
  {
   "cell_type": "code",
   "execution_count": 50,
   "id": "multiple-hayes",
   "metadata": {},
   "outputs": [
    {
     "data": {
      "text/plain": [
       "<matplotlib.image.AxesImage at 0x17f0f4b50>"
      ]
     },
     "execution_count": 50,
     "metadata": {},
     "output_type": "execute_result"
    },
    {
     "data": {
      "image/png": "[encoded data removed]",
      "text/plain": [
       "<Figure size 640x480 with 1 Axes>"
      ]
     },
     "metadata": {},
     "output_type": "display_data"
    }
   ],
   "source": [
    "plt.imshow(test_images[20].reshape(28,28), cmap='gray')"
   ]
  },
  {
   "cell_type": "code",
   "execution_count": 51,
   "id": "thick-requirement",
   "metadata": {},
   "outputs": [],
   "source": [
    "out_one_hot = clf.predict(X_test[20].reshape(1, n_dims))"
   ]
  },
  {
   "cell_type": "code",
   "execution_count": 52,
   "id": "neural-patrick",
   "metadata": {},
   "outputs": [
    {
     "data": {
      "text/plain": [
       "array([[0, 0, 0, 0, 0, 0, 0, 0, 0, 1]])"
      ]
     },
     "execution_count": 52,
     "metadata": {},
     "output_type": "execute_result"
    }
   ],
   "source": [
    "out_one_hot"
   ]
  },
  {
   "cell_type": "code",
   "execution_count": 53,
   "id": "integral-thesaurus",
   "metadata": {},
   "outputs": [],
   "source": [
    "out = lb.inverse_transform(out_one_hot.reshape(1,10))"
   ]
  },
  {
   "cell_type": "code",
   "execution_count": 54,
   "id": "played-transition",
   "metadata": {},
   "outputs": [
    {
     "data": {
      "text/plain": [
       "9"
      ]
     },
     "execution_count": 54,
     "metadata": {},
     "output_type": "execute_result"
    }
   ],
   "source": [
    "out[0]"
   ]
  },
  {
   "cell_type": "markdown",
   "id": "suburban-backing",
   "metadata": {},
   "source": [
    "## 5. Evaluation Metrics"
   ]
  },
  {
   "attachments": {
    "conf-matrix.png": {
     "image/png": "[encoded data removed]"
    }
   },
   "cell_type": "markdown",
   "id": "baking-large",
   "metadata": {},
   "source": [
    "### 5. 1 Confussion Matrix\n",
    "\n",
    "![conf-matrix.png](attachment:conf-matrix.png)"
   ]
  },
  {
   "cell_type": "code",
   "execution_count": 55,
   "id": "friendly-ceiling",
   "metadata": {},
   "outputs": [],
   "source": [
    "from sklearn.metrics import confusion_matrix"
   ]
  },
  {
   "cell_type": "code",
   "execution_count": 56,
   "id": "shaped-lawyer",
   "metadata": {},
   "outputs": [],
   "source": [
    "conf_mat = confusion_matrix(y_test, y_pred)"
   ]
  },
  {
   "cell_type": "code",
   "execution_count": 57,
   "id": "failing-edmonton",
   "metadata": {},
   "outputs": [
    {
     "data": {
      "text/plain": [
       "array([[ 974,    0,    0,    0,    0,    3,    1,    2,    0,    0],\n",
       "       [  19, 1106,    3,    0,    5,    0,    2,    0,    0,    0],\n",
       "       [  51,    0,  969,    3,    2,    0,    3,    2,    1,    1],\n",
       "       [  21,    0,   14,  955,    0,    8,    0,    5,    2,    5],\n",
       "       [  41,    4,    3,    0,  917,    0,    4,    3,    4,    6],\n",
       "       [  35,    0,    0,   10,    0,  840,    1,    0,    5,    1],\n",
       "       [  32,    3,    1,    0,    1,   10,  911,    0,    0,    0],\n",
       "       [  36,    1,   17,    3,   10,    0,    0,  948,    1,   12],\n",
       "       [  41,    1,    4,    7,    4,    4,    5,    0,  902,    6],\n",
       "       [  35,    0,    0,    1,   17,    4,    0,    5,   17,  930]])"
      ]
     },
     "execution_count": 57,
     "metadata": {},
     "output_type": "execute_result"
    }
   ],
   "source": [
    "conf_mat"
   ]
  },
  {
   "cell_type": "code",
   "execution_count": 58,
   "id": "representative-prerequisite",
   "metadata": {},
   "outputs": [],
   "source": [
    "from mlxtend.plotting import plot_confusion_matrix"
   ]
  },
  {
   "cell_type": "code",
   "execution_count": 60,
   "id": "flexible-savannah",
   "metadata": {},
   "outputs": [],
   "source": [
    "class_names = ['0', '1', '2', '3', '4', '5', '6', '7', '8', '9']"
   ]
  },
  {
   "cell_type": "code",
   "execution_count": 62,
   "id": "coupled-apache",
   "metadata": {},
   "outputs": [
    {
     "data": {
      "image/png": "[encoded data removed]",
      "text/plain": [
       "<Figure size 640x480 with 1 Axes>"
      ]
     },
     "metadata": {},
     "output_type": "display_data"
    }
   ],
   "source": [
    "fig, ax = plot_confusion_matrix(conf_mat=conf_mat, class_names=class_names)"
   ]
  },
  {
   "cell_type": "markdown",
   "id": "unnecessary-responsibility",
   "metadata": {},
   "source": [
    "### 5.2 Precission"
   ]
  },
  {
   "cell_type": "markdown",
   "id": "unauthorized-queue",
   "metadata": {},
   "source": [
    "$$\\text { Precision }=\\frac{T P}{T P+F P}$$"
   ]
  },
  {
   "cell_type": "code",
   "execution_count": 63,
   "id": "protected-suggestion",
   "metadata": {},
   "outputs": [],
   "source": [
    "from sklearn.metrics import precision_score"
   ]
  },
  {
   "cell_type": "code",
   "execution_count": 64,
   "id": "centered-sector",
   "metadata": {},
   "outputs": [],
   "source": [
    "precision = precision_score(y_test, y_pred, average=None)"
   ]
  },
  {
   "cell_type": "code",
   "execution_count": 65,
   "id": "collect-status",
   "metadata": {},
   "outputs": [
    {
     "data": {
      "text/plain": [
       "array([0.75797665, 0.99192825, 0.95845697, 0.97548519, 0.95920502,\n",
       "       0.96662831, 0.98274002, 0.98238342, 0.96781116, 0.96774194])"
      ]
     },
     "execution_count": 65,
     "metadata": {},
     "output_type": "execute_result"
    }
   ],
   "source": [
    "precision"
   ]
  },
  {
   "cell_type": "markdown",
   "id": "serious-tiger",
   "metadata": {},
   "source": [
    "### 5.3 Recall"
   ]
  },
  {
   "cell_type": "markdown",
   "id": "weekly-andrews",
   "metadata": {},
   "source": [
    "$$\\text { Recall }=\\frac{T P}{T P+F N}$$"
   ]
  },
  {
   "cell_type": "code",
   "execution_count": 66,
   "id": "linear-strap",
   "metadata": {},
   "outputs": [],
   "source": [
    "from sklearn.metrics import recall_score"
   ]
  },
  {
   "cell_type": "code",
   "execution_count": 67,
   "id": "canadian-valuable",
   "metadata": {},
   "outputs": [],
   "source": [
    "recall = recall_score(y_test, y_pred, average=None)"
   ]
  },
  {
   "cell_type": "code",
   "execution_count": 68,
   "id": "confident-brave",
   "metadata": {},
   "outputs": [
    {
     "data": {
      "text/plain": [
       "array([0.99387755, 0.97444934, 0.93895349, 0.94554455, 0.93380855,\n",
       "       0.94170404, 0.95093946, 0.92217899, 0.92607803, 0.92170466])"
      ]
     },
     "execution_count": 68,
     "metadata": {},
     "output_type": "execute_result"
    }
   ],
   "source": [
    "recall"
   ]
  },
  {
   "cell_type": "markdown",
   "id": "small-aircraft",
   "metadata": {},
   "source": [
    "### 5.4 Accuracy"
   ]
  },
  {
   "cell_type": "markdown",
   "id": "checked-assembly",
   "metadata": {},
   "source": [
    "$$\\text { Accuracy }=\\frac{T P+T N}{T P+T N+F P+F N}$$"
   ]
  },
  {
   "cell_type": "code",
   "execution_count": 69,
   "id": "ranking-silence",
   "metadata": {},
   "outputs": [],
   "source": [
    "from sklearn.metrics import accuracy_score"
   ]
  },
  {
   "cell_type": "code",
   "execution_count": 70,
   "id": "posted-worst",
   "metadata": {},
   "outputs": [],
   "source": [
    "accuracy = accuracy_score(y_test, y_pred)"
   ]
  },
  {
   "cell_type": "code",
   "execution_count": 71,
   "id": "joined-listening",
   "metadata": {},
   "outputs": [
    {
     "data": {
      "text/plain": [
       "0.9452"
      ]
     },
     "execution_count": 71,
     "metadata": {},
     "output_type": "execute_result"
    }
   ],
   "source": [
    "accuracy"
   ]
  },
  {
   "cell_type": "markdown",
   "id": "sublime-barrel",
   "metadata": {},
   "source": [
    "### 5.5 F1-Score"
   ]
  },
  {
   "cell_type": "markdown",
   "id": "after-prediction",
   "metadata": {},
   "source": [
    "$$\\text { F1-Score }=\\left(\\frac{2}{\\text { precision }^{-1}+\\text { recall }^{-1}}\\right)=2 \\cdot\\left(\\frac{\\text { precision } \\cdot \\text { recall }}{\\text { precision }+\\text { recall }}\\right)$$"
   ]
  },
  {
   "cell_type": "code",
   "execution_count": 72,
   "id": "bizarre-bermuda",
   "metadata": {},
   "outputs": [],
   "source": [
    "from sklearn.metrics import f1_score"
   ]
  },
  {
   "cell_type": "code",
   "execution_count": 73,
   "id": "hungarian-probe",
   "metadata": {},
   "outputs": [],
   "source": [
    "f1 = f1_score(y_test, y_pred, average='macro')"
   ]
  },
  {
   "cell_type": "code",
   "execution_count": 74,
   "id": "floating-corner",
   "metadata": {},
   "outputs": [
    {
     "data": {
      "text/plain": [
       "0.946093676342295"
      ]
     },
     "execution_count": 74,
     "metadata": {},
     "output_type": "execute_result"
    }
   ],
   "source": [
    "f1"
   ]
  }
 ],
 "metadata": {
  "kernelspec": {
   "display_name": "Python 3",
   "language": "python",
   "name": "python3"
  },
  "language_info": {
   "codemirror_mode": {
    "name": "ipython",
    "version": 3
   },
   "file_extension": ".py",
   "mimetype": "text/x-python",
   "name": "python",
   "nbconvert_exporter": "python",
   "pygments_lexer": "ipython3",
   "version": "3.11.5"
  }
 },
 "nbformat": 4,
 "nbformat_minor": 5
}
